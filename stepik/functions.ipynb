{
 "cells": [
  {
   "cell_type": "code",
   "execution_count": null,
   "metadata": {},
   "outputs": [],
   "source": [
    "for i in range(ord('a'), ord('z') + 1):\n",
    "    print(chr(i))"
   ]
  },
  {
   "cell_type": "code",
   "execution_count": null,
   "metadata": {},
   "outputs": [],
   "source": [
    "def convert(number):\n",
    "    return (str.upper(bin(number)).replace('0B', ''), str.upper(oct(number)).replace('0O', ''), str.upper(hex(number)).replace('0X', ''))\n",
    "\n",
    "print(convert(-24))"
   ]
  },
  {
   "cell_type": "code",
   "execution_count": null,
   "metadata": {},
   "outputs": [],
   "source": [
    "films = {'Spider-Man: No Way Home': {'imdb': 8.8, 'kinopoisk': 8.3},\n",
    "         'Don\"t Look Up': {'imdb': 7.3, 'kinopoisk': 7.6},\n",
    "         'Encanto': {'imdb': 7.3, 'kinopoisk': 7.4},\n",
    "         'The Witcher': {'imdb': 8.2, 'kinopoisk': 7.3},\n",
    "         'Ghostbusters: Afterlife': {'imdb': 7.3, 'kinopoisk': 8},\n",
    "         'Harry Potter 20th Anniversary: Return to Hogwarts': {'imdb': 8.1, 'kinopoisk': 8.2},\n",
    "         'Shingeki no Kyojin': {'imdb': 9.0, 'kinopoisk': 8.3},\n",
    "         'The Matrix': {'imdb': 8.7, 'kinopoisk': 8.5},\n",
    "         'The Dark Knight': {'imdb': 9.0, 'kinopoisk': 8.5},\n",
    "         'The Shawshank Redemption': {'imdb': 9.3, 'kinopoisk': 9.1},\n",
    "         'Avengers: Endgame': {'imdb': 8.4, 'kinopoisk': 7.7}}\n",
    "d = dict()\n",
    "\n",
    "for i in films:\n",
    "    a = 0\n",
    "    for j in films[i]:\n",
    "        a += films[i][j]\n",
    "    d[i] = a/len(films[i])\n",
    "\n",
    "print(min(d, key=d.get))"
   ]
  },
  {
   "cell_type": "code",
   "execution_count": null,
   "metadata": {},
   "outputs": [],
   "source": [
    "def non_negative_even(numbers):\n",
    "    if all([True if i % 2 == 0 and i >= 0 else False for i in numbers]):\n",
    "        return True\n",
    "    return False\n",
    "\n",
    "print(non_negative_even([0, 2, 4, 8, 16]))"
   ]
  },
  {
   "cell_type": "code",
   "execution_count": null,
   "metadata": {},
   "outputs": [],
   "source": [
    "def is_greater(lists, number):\n",
    "    if any([True if sum(i) > number else False for i in lists]):\n",
    "        return True\n",
    "    return False\n",
    "\n",
    "data = [[-3, 4, 0, 1], [1, 1, -4], [0, 0], [9, 3]]\n",
    "print(is_greater(data, 10))"
   ]
  },
  {
   "cell_type": "code",
   "execution_count": null,
   "metadata": {},
   "outputs": [],
   "source": [
    "def custom_isinstance(objects, typeinfo):\n",
    "    n = 0\n",
    "    for i in objects:\n",
    "        if isinstance(typeinfo, tuple):\n",
    "            n += sum(isinstance(i, j) for j in typeinfo)\n",
    "        else:\n",
    "            n +=int(isinstance(i, typeinfo))\n",
    "    return n\n",
    "\n",
    "numbers = [1, 'two', 3.0, 'четыре', 5, 6.0]\n",
    "print(custom_isinstance(numbers, list))"
   ]
  },
  {
   "cell_type": "code",
   "execution_count": null,
   "metadata": {},
   "outputs": [],
   "source": [
    "numbers = [-7724, 5023, 3197, -102, -4129, -880, 5857, -2866, -8913, 1195, 9809, 5347, -8071, 903, 3030, -4347, -3354, 1024, 8670, 4210, -5228, 8900, 4823, -2002, 4900, 9520, -3658, 1104, -9554, 3064, 9632, -8701, 3384, 4370, 2034, 7822, -9694, 3347, 7440, -8459, 3238, -5193, -3381, 5281, 9022, 5559, 7593, -6540, -6204, -2483, 8729, 5810, -8254, -9846, -1801, 4882, 3838, -3140, 7609, -3325, 6026, 2994, -1677, 1266, -1893, -4408, -5722, -2841, 9812, 5837, -7474, 4624, -664, 6998, 7888, -971, 8810, 3812, -5396, 2593, 512, -4634, 9735, -3062, 9031, -9300, 3657, 6332, 7552, 8125, -725, 4392, 1727, 8194, -2828, -4314, -8967, -7912, -1363, -5957]\n",
    "print(max(enumerate(numbers), key=lambda x: x[1])[0])"
   ]
  },
  {
   "cell_type": "code",
   "execution_count": null,
   "metadata": {},
   "outputs": [],
   "source": [
    "def my_pow(number):\n",
    "    return sum([int(j)**(i+1) for i,j in enumerate(str(number))])\n",
    "\n",
    "print(my_pow(139))"
   ]
  },
  {
   "cell_type": "code",
   "execution_count": null,
   "metadata": {},
   "outputs": [],
   "source": [
    "names = ['Moana', 'Cars', 'Zootopia', 'Ratatouille', 'Coco', 'Inside Out', 'Finding Nemo', 'Frozen']\n",
    "budgets = [150000000, 120000000, 150000000, 150000000, 180000000, 175000000, 94000000, 150000000]\n",
    "box_offices = [643331111, 462216280, 1023784195, 620702951, 807082196, 857611174, 940335536, 1280802282]\n",
    "\n",
    "for i, j, k in sorted(i for i in zip(names, budgets, box_offices)):\n",
    "    print(f'{i}: {k - j}$')"
   ]
  },
  {
   "cell_type": "code",
   "execution_count": null,
   "metadata": {},
   "outputs": [],
   "source": [
    "def zip_longest(*args, fill=None):\n",
    "    l = max(len(i) for i in args)\n",
    "    for i in args:\n",
    "        while len(i) < l:\n",
    "            i.append(fill)\n",
    "    return list(zip(*args))\n",
    "\n",
    "print(zip_longest([1, 2, 3, 4, 5], ['a', 'b', 'c'], fill='_'))"
   ]
  },
  {
   "cell_type": "code",
   "execution_count": null,
   "metadata": {},
   "outputs": [],
   "source": [
    "n = input()\n",
    "s1, s2, s3, s4 = '', '' , '', ''\n",
    "for i in n:\n",
    "    if i.islower():\n",
    "        s1 += i\n",
    "    elif i.isupper():\n",
    "        s2 += i\n",
    "    elif int(i) % 2 != 0:\n",
    "        s3 += i\n",
    "    elif int(i) % 2 == 0:\n",
    "        s4 += i\n",
    "\n",
    "print(''.join(sorted(s1) + sorted(s2) + sorted(s3) + sorted(s4)))"
   ]
  },
  {
   "cell_type": "code",
   "execution_count": null,
   "metadata": {},
   "outputs": [],
   "source": [
    "def hash_as_key(objects):\n",
    "    d = dict()\n",
    "    for i in objects:\n",
    "        if hash(i) not in d:\n",
    "            d[hash(i)] = i\n",
    "        else:\n",
    "            if isinstance(d[hash(i)], list):\n",
    "                d[hash(i)].append(i)\n",
    "            else:\n",
    "                d[hash(i)] = [d[hash(i)], i]\n",
    "    return d\n",
    "\n",
    "data = [1, 2, 3, 4, 5, 5, 5]\n",
    "print(hash_as_key(data))"
   ]
  },
  {
   "cell_type": "code",
   "execution_count": null,
   "metadata": {},
   "outputs": [],
   "source": [
    "n = eval(input())\n",
    "\n",
    "\n",
    "if isinstance(n, list):\n",
    "    print(n[-1])\n",
    "elif isinstance(n, tuple):\n",
    "    print(n[0])\n",
    "elif isinstance(n, set):\n",
    "    print(len(n))\n"
   ]
  },
  {
   "cell_type": "code",
   "execution_count": null,
   "metadata": {},
   "outputs": [],
   "source": [
    "from sys import stdin\n",
    "\n",
    "m = eval(input())\n",
    "\n",
    "for line in stdin:\n",
    "    if m < eval(n):\n",
    "        m = eval(n)    \n",
    "\n",
    "print(m)"
   ]
  },
  {
   "cell_type": "code",
   "execution_count": 10,
   "metadata": {},
   "outputs": [
    {
     "name": "stdout",
     "output_type": "stream",
     "text": [
      "Минимальное значение функции 2*x**2 + 5*x + 7 на отрезке [-1; 5] равно 4\n",
      "Максимальное значение функции 2*x**2 + 5*x + 7 на отрезке [-1; 5] равно 82\n"
     ]
    }
   ],
   "source": [
    "f = input()\n",
    "a, b = input().split(' ')\n",
    "x = int(a)\n",
    "m, n = eval(f), eval(f)\n",
    "for x in range(int(a), int(b) + 1):\n",
    "    if m < eval(f):\n",
    "        m = eval(f)\n",
    "    if n > eval(f):\n",
    "        n = eval(f)\n",
    "\n",
    "print(f'Минимальное значение функции {f} на отрезке [{a}; {b}] равно {n}')\n",
    "print(f'Максимальное значение функции {f} на отрезке [{a}; {b}] равно {m}')"
   ]
  }
 ],
 "metadata": {
  "kernelspec": {
   "display_name": "Python 3",
   "language": "python",
   "name": "python3"
  },
  "language_info": {
   "codemirror_mode": {
    "name": "ipython",
    "version": 3
   },
   "file_extension": ".py",
   "mimetype": "text/x-python",
   "name": "python",
   "nbconvert_exporter": "python",
   "pygments_lexer": "ipython3",
   "version": "3.10.6"
  },
  "orig_nbformat": 4
 },
 "nbformat": 4,
 "nbformat_minor": 2
}
