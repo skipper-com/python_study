{
 "cells": [
  {
   "cell_type": "code",
   "execution_count": null,
   "metadata": {},
   "outputs": [],
   "source": [
    "from collections import defaultdict"
   ]
  },
  {
   "cell_type": "code",
   "execution_count": null,
   "metadata": {},
   "outputs": [],
   "source": [
    "def best_sender(mes, sen):\n",
    "    q = defaultdict(int)\n",
    "    for i in range(len(mes)):\n",
    "            q[sen[i]] = q[sen[i]] + len(mes[i].split())\n",
    "    return sorted(q.items(), key=lambda x: (x[1], x[0]), reverse=True)[0][0]"
   ]
  },
  {
   "cell_type": "code",
   "execution_count": null,
   "metadata": {},
   "outputs": [],
   "source": [
    "messages = ['How is Stepik for everyone', 'Stepik is useful for practice']\n",
    "senders = ['Bob', 'Charlie']\n",
    "\n",
    "print(best_sender(messages, senders))"
   ]
  },
  {
   "cell_type": "code",
   "execution_count": null,
   "metadata": {},
   "outputs": [],
   "source": [
    "def flip_dict(x):\n",
    "    flip = defaultdict(list)\n",
    "    for k,v in x.items():\n",
    "        for i in v:\n",
    "            flip[i].append(k)\n",
    "    return flip"
   ]
  },
  {
   "cell_type": "code",
   "execution_count": null,
   "metadata": {},
   "outputs": [],
   "source": [
    "print(flip_dict({'a': [1, 2], 'b': [3, 1], 'c': [2]}))"
   ]
  },
  {
   "cell_type": "code",
   "execution_count": null,
   "metadata": {},
   "outputs": [],
   "source": [
    "staff_broken = [('Developing', 'Miguel Norris'), ('Sales', 'Connie Reid'), ('Sales', 'Joseph Lee'), ('Marketing', 'Carol Peters'), ('Accounting', 'Linda Hudson'), ('Accounting', 'Ann Bell'), ('Marketing', 'Ralph Morgan'), ('Accounting', 'Gloria Higgins'), ('Developing', 'Wilma Woods'), ('Developing', 'Wilma Woods'), ('Marketing', 'Bernice Ramos'), ('Marketing', 'Joyce Lawrence'), ('Accounting', 'Craig Wood'), ('Developing', 'Nicole Watts'), ('Sales', 'Jose Taylor'), ('Accounting', 'Linda Hudson'), ('Accounting', 'Edna Cunningham'), ('Sales', 'Jose Taylor'), ('Marketing', 'Helen Taylor'), ('Accounting', 'Kimberly Reynolds'), ('Marketing', 'Mary King'), ('Sales', 'Joseph Lee'), ('Accounting', 'Gloria Higgins'), ('Marketing', 'Andrew Clark'), ('Accounting', 'John Watts'), ('Accounting', 'Rosemary Garcia'), ('Accounting', 'Steven Diaz'), ('Marketing', 'Mary King'), ('Sales', 'Gladys Taylor'), ('Developing', 'Thomas Porter'), ('Accounting', 'Brenda Davis'), ('Sales', 'Connie Reid'), ('Sales', 'Alicia Mendoza'), ('Marketing', 'Mario Reynolds'), ('Sales', 'John White'), ('Developing', 'Joyce Rivera'), ('Accounting', 'Steven Diaz'), ('Developing', 'Arlene Gibson'), ('Sales', 'Robert Barnes'), ('Sales', 'Charlotte Cox'), ('Accounting', 'Craig Wood'), ('Marketing', 'Carol Peters'), ('Marketing', 'Ralph Morgan'), ('Accounting', 'Kay Scott'), ('Sales', 'Evelyn Martin'), ('Marketing', 'Billy Lloyd'), ('Sales', 'Gladys Taylor'), ('Developing', 'Deborah George'), ('Sales', 'Charlotte Cox'), ('Marketing', 'Sam Davis'), ('Sales', 'John White'), ('Sales', 'Marie Cooper'), ('Marketing', 'John Gonzalez'), ('Sales', 'John Washington'), ('Sales', 'Chester Fernandez'), ('Sales', 'Alicia Mendoza'), ('Sales', 'Katie Warner'), ('Accounting', 'Jane Jackson'), ('Sales', 'Chester Fernandez'), ('Marketing', 'Charles Bailey'), ('Marketing', 'Gail Hill'), ('Accounting', 'Casey Jenkins'), ('Accounting', 'James Wilkins'), ('Accounting', 'Casey Jenkins'), ('Marketing', 'Mario Reynolds'), ('Accounting', 'Aaron Ferguson'), ('Accounting', 'Kimberly Reynolds'), ('Sales', 'Robert Barnes'), ('Accounting', 'Aaron Ferguson'), ('Accounting', 'Jane Jackson'), ('Developing', 'Deborah George'), ('Accounting', 'Michelle Wright'), ('Accounting', 'Dale Houston')]\n",
    "\n",
    "depts = defaultdict(set)\n",
    "\n",
    "for d in staff_broken:\n",
    "    depts[d[0]].add(d[1])\n",
    "\n",
    "for p,v in sorted(depts.items()):\n",
    "    print(f\"{p}: {', '.join(sorted(v))}\")"
   ]
  },
  {
   "cell_type": "code",
   "execution_count": null,
   "metadata": {},
   "outputs": [],
   "source": [
    "from collections import OrderedDict\n",
    "\n",
    "data = OrderedDict({'Law & Order': 1990, 'The Practice': 1997, 'Six Feet Under': 2001, 'Joan of Arcadia': 2003, 'The West Wing': 1999, 'Deadwood': 2004, 'The Sopranos': 1999, 'Boston Legal': 2004, 'ER': 1994, 'Friday Night Lights': 2006, '24': 2001, 'Heroes': 2006, 'Lost': 2004, 'Dexter': 2006, 'Damages': 2007, 'Big Love': 2006, 'House': 2004, 'Downton Abbey': 2010, \"Grey's Anatomy\": 2005, 'Homeland': 2011, 'Breaking Bad': 2008, 'Game of Thrones': 2011, 'CSI: Crime Scene Investigations': 2000, 'Boardwalk Empire': 2010, 'True Blood': 2008, 'House of Cards': 2013, 'True Detective': 2014})\n"
   ]
  },
  {
   "cell_type": "code",
   "execution_count": null,
   "metadata": {},
   "outputs": [],
   "source": [
    "def custom_sort(ordered_dict, by_values=False):\n",
    "    if by_values==False:\n",
    "        for i in sorted(ordered_dict.keys()):\n",
    "            ordered_dict.move_to_end(i)\n",
    "    else:\n",
    "        for i in sorted(ordered_dict.items(), key=lambda x: x[1]):\n",
    "            ordered_dict.move_to_end(i[0])\n",
    "    return None"
   ]
  },
  {
   "cell_type": "code",
   "execution_count": null,
   "metadata": {},
   "outputs": [],
   "source": [
    "data = OrderedDict(Dustin=29, Anabel=17, Brian=40, Carol=16)\n",
    "custom_sort(data)\n",
    "\n",
    "print(data)"
   ]
  },
  {
   "cell_type": "code",
   "execution_count": null,
   "metadata": {},
   "outputs": [],
   "source": [
    "data = OrderedDict(Earth=3, Mercury=1, Mars=4, Venus=2)\n",
    "custom_sort(data, by_values=True)\n",
    "\n",
    "print(*data.items())"
   ]
  },
  {
   "cell_type": "code",
   "execution_count": null,
   "metadata": {},
   "outputs": [],
   "source": [
    "from collections import Counter"
   ]
  },
  {
   "cell_type": "code",
   "execution_count": null,
   "metadata": {},
   "outputs": [],
   "source": [
    "for i,v in sorted(Counter([x.split('.')[1] for x in files]).items()):\n",
    "    print(f\"{i}: {v}\") "
   ]
  },
  {
   "cell_type": "code",
   "execution_count": null,
   "metadata": {},
   "outputs": [],
   "source": [
    "def count_occurences(word, words):\n",
    "    c = Counter(words.lower().split())\n",
    "    return c[word.lower()]"
   ]
  },
  {
   "cell_type": "code",
   "execution_count": null,
   "metadata": {},
   "outputs": [],
   "source": [
    "s = 0\n",
    "for i in 'сырный соус'.replace(' ', ''):\n",
    "    s = s + ord(i)\n",
    "    print(s)\n"
   ]
  },
  {
   "cell_type": "code",
   "execution_count": null,
   "metadata": {},
   "outputs": [],
   "source": [
    "n = input()\n",
    "products = Counter(n.split(','))\n",
    "for i,v in sorted(Counter(n.split(',')).items()):\n",
    "    price = sum([ord(x) for x in i.replace(' ', '')])\n",
    "    m = max([len(x) for x in products.keys()])\n",
    "    print(f\"{i:{m}}: {price} UC x {v} = {price * v} UC\") "
   ]
  },
  {
   "cell_type": "code",
   "execution_count": null,
   "metadata": {},
   "outputs": [],
   "source": [
    "l = ['брюки', 'носки', 'рубашка', 'сырный соус', 'футболка']\n",
    "m = max([len(x) for x in l])\n",
    "print(m)\n",
    "ff = 'ddd'\n",
    "print(f'{ff:{m}}')"
   ]
  },
  {
   "cell_type": "code",
   "execution_count": null,
   "metadata": {},
   "outputs": [],
   "source": [
    "c = Counter()\n",
    "with open('pythonzen.txt', 'r') as f:\n",
    "    for line in f.readlines():\n",
    "        c.update([a for a in line.strip().lower() if a.isalpha()])\n",
    "f.close()\n",
    "for i,v in sorted(c.items()):\n",
    "    print(f\"{i}: {v}\") "
   ]
  },
  {
   "cell_type": "code",
   "execution_count": null,
   "metadata": {},
   "outputs": [],
   "source": [
    "for i,v in sorted(c.items()):\n",
    "    print(f\"{i}: {v}\") "
   ]
  },
  {
   "cell_type": "code",
   "execution_count": null,
   "metadata": {},
   "outputs": [],
   "source": [
    "from collections import Counter\n",
    "students = Counter()\n",
    "while True:\n",
    "    try:\n",
    "        line = input().split()\n",
    "        students.update({line[0]: int(line[1])})\n",
    "    except EOFError:\n",
    "        break\n",
    "\n",
    "print(students.most_common()[-2][0])"
   ]
  },
  {
   "cell_type": "code",
   "execution_count": null,
   "metadata": {},
   "outputs": [],
   "source": [
    "from collections import Counter\n",
    "\n",
    "data = Counter('aksjaskfjsklfjdslkfjajfopewtoieqpwdpqworiiqjskanvmcxbmpewrqopkqwlmdzczmxvmvlnjpjqpkqzxvmbowiqeorewi')\n",
    "\n",
    "\n",
    "data.min_values = lambda: [x for x in data.most_common()[::-1] if x[1] == data.most_common()[-1][1]]\n",
    "data.max_values = lambda: [x for x in data.most_common() if x[1] == data.most_common()[0][1]]\n",
    "\n",
    "print(data.min_values())\n",
    "print(data.max_values())\n"
   ]
  },
  {
   "cell_type": "code",
   "execution_count": null,
   "metadata": {},
   "outputs": [],
   "source": [
    "from collections import Counter\n",
    "\n",
    "with open('name_log.csv', 'r', encoding='UTF-8') as f:\n",
    "    \n",
    "    l = [x.strip().split(',')[1] for x in f.readlines()[1:]]\n",
    "    c = Counter(l)    \n",
    "    for i in sorted(c.items()):\n",
    "        print(f'{i[0]}: {i[1]}')\n",
    "\n",
    "f.close()"
   ]
  },
  {
   "cell_type": "code",
   "execution_count": null,
   "metadata": {},
   "outputs": [],
   "source": [
    "from collections import Counter\n",
    "def scrabble(symbols, word):\n",
    "    s = Counter(symbols.lower())\n",
    "    s.subtract(Counter(word.lower()))\n",
    "    if min(s.values()) < 0:\n",
    "        return False\n",
    "    else:\n",
    "        return True\n",
    "\n",
    "scrabble('beegeek', 'beegeek')"
   ]
  },
  {
   "cell_type": "code",
   "execution_count": null,
   "metadata": {},
   "outputs": [],
   "source": [
    "from collections import Counter\n",
    "def print_bar_chart(data, mark):\n",
    "    c = Counter(data)\n",
    "    m = max([len(x) for x in c])\n",
    "    for i in sorted(c.items(), key=lambda x: x[1], reverse=True):\n",
    "        print(f'{i[0]:{m}} |{i[1]*mark}')\n",
    "print_bar_chart('beegeek', '+')"
   ]
  },
  {
   "cell_type": "code",
   "execution_count": null,
   "metadata": {},
   "outputs": [],
   "source": [
    "from collections import Counter\n",
    "import json\n",
    "\n",
    "s = 0\n",
    "\n",
    "c = Counter()\n",
    "for i in range(1, 5):\n",
    "    with open(f'quarter{i}.csv', 'r', encoding='UTF-8') as f:\n",
    "        for x in f.readlines()[1:]:\n",
    "            l = x.strip().split(',')\n",
    "            d = {l[0]: int(l[1]) + int(l[2]) + int(l[3])}\n",
    "            c.update(d)\n",
    "f.close()\n",
    "\n",
    "with open('prices.json', 'r', encoding='UTF-8') as f:\n",
    "        data = json.load(f)\n",
    "\n",
    "        for k,v in data.items():\n",
    "            s = s + (c[k] * v)\n",
    "f.close()\n",
    "print(s)"
   ]
  },
  {
   "cell_type": "code",
   "execution_count": null,
   "metadata": {},
   "outputs": [],
   "source": [
    "from collections import Counter\n",
    "b = Counter(input().split())\n",
    "n = int(input())\n",
    "s = 0\n",
    "for i in range(n):\n",
    "    l = list(map(int, input().split()))\n",
    "    if b[l[0]] >= 0:\n",
    "        s = s + l[1]\n",
    "        b.subtract(f'l[0]')\n",
    "print(s)"
   ]
  },
  {
   "cell_type": "code",
   "execution_count": null,
   "metadata": {},
   "outputs": [],
   "source": [
    "from collections import Counter, defaultdict, OrderedDict, ChainMap\n",
    "import json\n",
    "\n",
    "an = ChainMap()\n",
    "\n",
    "with open('zoo.json', 'r', encoding='UTF-8') as f:\n",
    "        data = json.load(f)\n",
    "        for i in data:\n",
    "            an.update(i)\n",
    "f.close()\n",
    "s = sum([*an.values()])\n",
    "print(s)"
   ]
  },
  {
   "cell_type": "code",
   "execution_count": null,
   "metadata": {},
   "outputs": [],
   "source": [
    "from collections import Counter, defaultdict, OrderedDict, ChainMap\n",
    "\n",
    "bread = {'булочка с кунжутом': 15, 'обычная булочка': 10, 'ржаная булочка': 15}\n",
    "meat = {'куриный бифштекс': 50, 'говяжий бифштекс': 70, 'рыбный бифштекс': 40}\n",
    "sauce = {'сливочно-чесночный': 15, 'кетчуп': 10, 'горчица': 10, 'барбекю': 15, 'чили': 15}\n",
    "vegetables = {'лук': 10, 'салат': 15, 'помидор': 15, 'огурцы': 10}\n",
    "toppings = {'сыр': 25, 'яйцо': 15, 'бекон': 30}\n",
    "products = ChainMap(bread, meat, sauce, vegetables, toppings)\n",
    "\n",
    "ing = Counter(input().split(','))\n",
    "s, n = 0, 0\n",
    "\n",
    "for i in sorted(ing):\n",
    "    m = max(list(map(len, ing.keys())))\n",
    "    s = s + products[i] * ing[i]\n",
    "    print(f'{i:{m}} x {ing[i]}')\n",
    "    n = len(f'{i:{m}} x {ing[i]}') if n < len(f'{i:{m}} x {ing[i]}') else n \n",
    "n = len(f'ИТОГ: {s}р') if n < len(f'ИТОГ: {s}р') else n\n",
    "print('-'*n)\n",
    "print(f'ИТОГ: {s}р')"
   ]
  },
  {
   "cell_type": "code",
   "execution_count": null,
   "metadata": {},
   "outputs": [],
   "source": [
    "from collections import Counter, defaultdict, OrderedDict, ChainMap\n",
    "\n",
    "def get_all_values(chainmap, key):\n",
    "    s = set()\n",
    "    for i in chainmap.maps:\n",
    "        for k,v in i.items():\n",
    "            if k == key:\n",
    "                s.add(i[key])\n",
    "    return s \n",
    "\n",
    "chainmap = ChainMap({'name': 'Arthur'}, {'name': 'Timur'})\n",
    "result = get_all_values(chainmap, 'name')\n",
    "\n",
    "print(*sorted(result))"
   ]
  },
  {
   "cell_type": "code",
   "execution_count": null,
   "metadata": {},
   "outputs": [],
   "source": [
    "from collections import Counter, defaultdict, OrderedDict, ChainMap\n",
    "\n",
    "def deep_update(chainmap, key, value):\n",
    "    for i in chainmap.maps:\n",
    "        if key in i:\n",
    "            i[key] = value\n",
    "    chainmap.setdefault(key, value)\n",
    "    return None\n",
    "\n",
    "chainmap = ChainMap({'name': 'Arthur'}, {'name': 'Timur'})\n",
    "deep_update(chainmap, 'age', 20)\n",
    "\n",
    "print(chainmap)"
   ]
  },
  {
   "cell_type": "code",
   "execution_count": 64,
   "metadata": {},
   "outputs": [
    {
     "name": "stdout",
     "output_type": "stream",
     "text": [
      "None\n"
     ]
    }
   ],
   "source": [
    "from collections import Counter, defaultdict, OrderedDict, ChainMap\n",
    "\n",
    "def get_value(chainmap, key, from_left=True):\n",
    "    if not from_left: chainmap.maps.reverse()\n",
    "    for i in chainmap.maps:\n",
    "        if key in i:\n",
    "            return i[key]\n",
    "    return None\n",
    "\n",
    "chainmap = ChainMap({'name': 'Arthur'}, {'name': 'Timur'})\n",
    "\n",
    "print(get_value(chainmap, 'age'))"
   ]
  }
 ],
 "metadata": {
  "kernelspec": {
   "display_name": "Python 3",
   "language": "python",
   "name": "python3"
  },
  "language_info": {
   "codemirror_mode": {
    "name": "ipython",
    "version": 3
   },
   "file_extension": ".py",
   "mimetype": "text/x-python",
   "name": "python",
   "nbconvert_exporter": "python",
   "pygments_lexer": "ipython3",
   "version": "3.10.6"
  },
  "orig_nbformat": 4
 },
 "nbformat": 4,
 "nbformat_minor": 2
}
