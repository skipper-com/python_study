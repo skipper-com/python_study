{
 "cells": [
  {
   "cell_type": "code",
   "execution_count": 1,
   "metadata": {},
   "outputs": [
    {
     "name": "stdout",
     "output_type": "stream",
     "text": [
      "[10, 20, 50] [30, 40, 60]\n",
      "Add: [10, 20, 50, 30, 40, 60]\n",
      "Reverse: [60, 40, 30, 50, 20, 10], [10, 20, 50, 30, 40, 60]\n",
      "Sort: [10, 20, 30, 40, 50, 60], [10, 20, 30, 40, 50, 60]\n",
      "['A', ' ', 'w', 'h', 'o', 'l', 'e', ' ', 's', 't', 'r', 'i', 'n', 'g']\n",
      "['A', 'whole', 'string']\n",
      "2\n",
      "['A', ' ', 'h', 'o', 'l', 'e', ' ', 's', 't', 'i', 'n', 'g'] r\n"
     ]
    }
   ],
   "source": [
    "a = []  # Создаем пустой список\n",
    "\n",
    "a: list[int] = [10, 20]\n",
    "b: list[int] = [30, 40]\n",
    "a.append(50)  # Добавляем значение в конец списка\n",
    "b.insert(2, 60)  # Вставляем значение по определенному индексу\n",
    "print(a, b)\n",
    "\n",
    "a += b\n",
    "print(f\"Add: {a}\")\n",
    "\n",
    "a.reverse()\n",
    "b = list(reversed(a))  # reversed() возвращает итератор, а не список\n",
    "print(f\"Reverse: {a}, {b}\")\n",
    "\n",
    "b = sorted(a)  # Возвращает новый отсортированный список\n",
    "a.sort()  # Модифицирует исходный список и не возвращает ничего\n",
    "print(f\"Sort: {a}, {b}\")\n",
    "\n",
    "s: str = \"A whole string\"\n",
    "list_of_chars: list = list(s)\n",
    "print(list_of_chars)\n",
    "list_of_words: list = s.split()\n",
    "print(list_of_words)\n",
    "\n",
    "i: int = list_of_chars.index(\"w\")  # Возвращает индекс первого вхождения искомого элемента или вызывает исключение ValueError\n",
    "print(i)\n",
    "list_of_chars.remove(\"w\")  # Удаляет первое вхождение искомого элемента или вызывает исключение ValueError\n",
    "e = list_of_chars.pop(9)  # Удаляет и возвращает значение, расположенное по индексу. pop() (без аргумента) удалит и вернет последний элемент списка\n",
    "print(list_of_chars, e)\n",
    "a.clear()  # Очистка списка"
   ]
  },
  {
   "cell_type": "code",
   "execution_count": 2,
   "metadata": {},
   "outputs": [
    {
     "name": "stdout",
     "output_type": "stream",
     "text": [
      "List: 88 bytes\n",
      "Tuple: 64 bytes\n"
     ]
    }
   ],
   "source": [
    "a = [2, 3, \"Boson\", \"Higgs\", 1.56e-22]\n",
    "b = (2, 3, \"Boson\", \"Higgs\", 1.56e-22)\n",
    "\n",
    "print(f\"List: {a.__sizeof__()} bytes\")\n",
    "print(f\"Tuple: {b.__sizeof__()} bytes\")"
   ]
  },
  {
   "cell_type": "code",
   "execution_count": 3,
   "metadata": {},
   "outputs": [
    {
     "name": "stdout",
     "output_type": "stream",
     "text": [
      "rectangle(length=1, width=2)\n",
      "1\n",
      "2\n",
      "('length', 'width')\n"
     ]
    }
   ],
   "source": [
    "from collections import namedtuple\n",
    "\n",
    "rectangle = namedtuple('rectangle', 'length width')\n",
    "r = rectangle(length = 1, width = 2)\n",
    "\n",
    "print(r)\n",
    "print(r.length)\n",
    "print(r.width)\n",
    "print(r._fields)"
   ]
  },
  {
   "cell_type": "code",
   "execution_count": 4,
   "metadata": {},
   "outputs": [
    {
     "name": "stdout",
     "output_type": "stream",
     "text": [
      "{'Italy': 'Pizza', 'US': 'Hot-Dog', 'China': 'Dim Sum'}\n",
      "dict_keys(['Italy', 'US', 'China'])\n",
      "dict_values(['Pizza', 'Hot-Dog', 'Dim Sum'])\n",
      "dict_items([('Italy', 'Pizza'), ('US', 'Hot-Dog'), ('China', 'Dim Sum')])\n",
      "Mapping: Pizza\n",
      "Replace item: {'Italy': 'Pizza', 'US': 'Hot-Dog', 'China': 'Dumplings'}\n",
      "Read item: Dumplings\n",
      "Dictionary key doesn't exist\n",
      "{'Italy': 'Pizza', 'China': 'Dumplings'}\n",
      "{'US': 'Hot-Dog', 'China': 'Dumplings'}\n"
     ]
    }
   ],
   "source": [
    "d = {}  # Создаем пустой словарь\n",
    "\n",
    "d: dict[str, str] = {\"Italy\": \"Pizza\", \"US\": \"Hot-Dog\", \"China\": \"Dim Sum\"}  # Непосредственное создание словаря\n",
    "\n",
    "k = [\"Italy\", \"US\", \"China\"]\n",
    "v = [\"Pizza\", \"Hot-Dog\", \"Dim Sum\"]\n",
    "d = dict(zip(k, v))  # Создание словаря из двух коллекций при помощи zip\n",
    "\n",
    "k = d.keys()  # Коллекция ключей. Отражает изменения в основном словаре\n",
    "v = d.values()  # Коллекция значений. Тоже отражает изменения в основном словаре\n",
    "k_v = d.items()  # Кортежи ключ-значение, которые тоже отражают изменения в основном словаре\n",
    "\n",
    "print(d)\n",
    "print(k)\n",
    "print(v)\n",
    "print(k_v)\n",
    "\n",
    "print(f\"Mapping: {k.mapping['Italy']}\")\n",
    "\n",
    "d.update({\"China\": \"Dumplings\"})  # Добавление значение. При совпадении ключа старое значение будет перезаписано\n",
    "print(f\"Replace item: {d}\")\n",
    "\n",
    "c = d[\"China\"]  # Читаем значение\n",
    "print(f\"Read item: {c}\")\n",
    "\n",
    "try:\n",
    "    v = d.pop(\"Spain\")  # Удаляет значение или вызывает исключение KeyError\n",
    "except KeyError:\n",
    "    print(\"Dictionary key doesn't exist\")\n",
    "\n",
    "# Примеры dict comprehension (более подробно comprehension будет рассмотрено ниже)\n",
    "b = {k: v for k, v in d.items() if \"a\" in k}  # Вернет новый словарь, отфильтрованный по значению ключа\n",
    "print(b)\n",
    "\n",
    "c = {k: v for k, v in d.items() if len(v) >= 7}  # Вернет новый словарь, отфильтрованный по длине значений\n",
    "print(c)\n",
    "\n",
    "d.clear() # Очистка словаря"
   ]
  },
  {
   "cell_type": "code",
   "execution_count": 6,
   "metadata": {},
   "outputs": [
    {
     "name": "stdout",
     "output_type": "stream",
     "text": [
      "0\n"
     ]
    },
    {
     "ename": "KeyError",
     "evalue": "10",
     "output_type": "error",
     "traceback": [
      "\u001b[1;31m---------------------------------------------------------------------------\u001b[0m",
      "\u001b[1;31mKeyError\u001b[0m                                  Traceback (most recent call last)",
      "\u001b[1;32mc:\\git\\python_study\\stepik\\amaargiru.ipynb Cell 5\u001b[0m in \u001b[0;36m<cell line: 7>\u001b[1;34m()\u001b[0m\n\u001b[0;32m      <a href='vscode-notebook-cell:/c%3A/git/python_study/stepik/amaargiru.ipynb#W4sZmlsZQ%3D%3D?line=3'>4</a>\u001b[0m \u001b[39mprint\u001b[39m(dd[\u001b[39m10\u001b[39m])  \u001b[39m# Печать int, будет выведен ноль, значение по умолчанию\u001b[39;00m\n\u001b[0;32m      <a href='vscode-notebook-cell:/c%3A/git/python_study/stepik/amaargiru.ipynb#W4sZmlsZQ%3D%3D?line=5'>6</a>\u001b[0m dd \u001b[39m=\u001b[39m {}  \u001b[39m# \"Обычный\" пустой словарь\u001b[39;00m\n\u001b[1;32m----> <a href='vscode-notebook-cell:/c%3A/git/python_study/stepik/amaargiru.ipynb#W4sZmlsZQ%3D%3D?line=6'>7</a>\u001b[0m \u001b[39mprint\u001b[39m(dd[\u001b[39m10\u001b[39;49m])\n",
      "\u001b[1;31mKeyError\u001b[0m: 10"
     ]
    }
   ],
   "source": [
    "from collections import defaultdict\n",
    "\n",
    "dd = defaultdict(int)\n",
    "print(dd[10])  # Печать int, будет выведен ноль, значение по умолчанию\n",
    "\n",
    "dd = {}  # \"Обычный\" пустой словарь\n",
    "#print(dd[10])  # вызовет исключение KeyError"
   ]
  },
  {
   "cell_type": "code",
   "execution_count": 7,
   "metadata": {},
   "outputs": [
    {
     "name": "stdout",
     "output_type": "stream",
     "text": [
      "Counter({'white': 3, 'black': 2, 'red': 1, 'blue': 1})\n",
      "After shopping: Counter({'white': 3, 'blue': 2, 'black': 2, 'red': 1})\n"
     ]
    }
   ],
   "source": [
    "from collections import Counter\n",
    "\n",
    "shirts_colors = [\"red\", \"white\", \"blue\", \"white\", \"white\", \"black\", \"black\"]\n",
    "c = Counter(shirts_colors)\n",
    "print(c)\n",
    "\n",
    "c[\"blue\"] += 1\n",
    "print(f\"After shopping: {c}\")\n"
   ]
  },
  {
   "cell_type": "code",
   "execution_count": 8,
   "metadata": {},
   "outputs": [
    {
     "name": "stdout",
     "output_type": "stream",
     "text": [
      "defaultdict(<class 'int'>, {'red': 1, 'white': 3, 'blue': 1, 'black': 2})\n"
     ]
    }
   ],
   "source": [
    "from collections import defaultdict\n",
    "\n",
    "shirts_colors = [\"red\", \"white\", \"blue\", \"white\", \"white\", \"black\", \"black\"]\n",
    "\n",
    "d = defaultdict(int)\n",
    "for shirt in shirts_colors:\n",
    "    d[shirt] += 1\n",
    "\n",
    "print(d)"
   ]
  },
  {
   "cell_type": "code",
   "execution_count": 9,
   "metadata": {},
   "outputs": [
    {
     "name": "stdout",
     "output_type": "stream",
     "text": [
      "{'Los Angeles', 'Ottawa', 'Sydney', 'New-York'} {'Salt Lake City', 'Chicago', 'Los Angeles', 'Seattle', 'New-York'}\n",
      "{'Sydney', 'Salt Lake City', 'Chicago', 'Seattle', 'Ottawa', 'Los Angeles', 'New-York'}\n",
      "{'Los Angeles', 'New-York'}\n",
      "{'Sydney', 'Ottawa'}\n",
      "{'Ottawa', 'Sydney', 'Salt Lake City', 'Chicago', 'Seattle'}\n",
      "True False\n"
     ]
    }
   ],
   "source": [
    "big_cities: set[\"str\"] = {\"New-York\", \"Los Angeles\", \"Ottawa\"}\n",
    "american_cities: set[\"str\"] = {\"Chicago\", \"New-York\", \"Los Angeles\"}\n",
    "\n",
    "big_cities |= {\"Sydney\"}  # Добавить значение (или add())\n",
    "american_cities |= {\"Salt Lake City\", \"Seattle\"}  # Сложить множества (или update())\n",
    "\n",
    "print(big_cities, american_cities)\n",
    "\n",
    "union_cities: set[\"str\"] = big_cities | american_cities  # Или union()\n",
    "intersected_cities: set[\"str\"] = big_cities & american_cities  # Или intersection()\n",
    "dif_cities: set[\"str\"] = big_cities - american_cities  # Или difference()\n",
    "symdif_cities: set[\"str\"] = big_cities ^ american_cities  # Или symmetric_difference()\n",
    "\n",
    "issub: bool = big_cities <= union_cities  # Или issubset()\n",
    "issuper: bool = american_cities >= dif_cities  # Или issuperset()\n",
    "\n",
    "print(union_cities)\n",
    "print(intersected_cities)\n",
    "print(dif_cities)\n",
    "print(symdif_cities)\n",
    "\n",
    "print(issub, issuper)\n",
    "\n",
    "big_cities.add(\"London\")\n",
    "\n",
    "big_cities.remove(\"Ottawa\")  # Удаляет значение, если оно имеется или выбрасывает KeyError\n",
    "big_cities.discard(\"Los Angeles\")  # Удаляет значение без выбрасывания KeyError\n",
    "big_cities.pop()  # Возвращает и удаляет случайное значение (порядок в set неопределен) или выбрасывает KeyError\n",
    "big_cities.clear()  # Очищает множество"
   ]
  },
  {
   "cell_type": "code",
   "execution_count": 10,
   "metadata": {},
   "outputs": [
    {
     "name": "stdout",
     "output_type": "stream",
     "text": [
      "array('l', [1, 2, 3, -4])\n",
      "49\n",
      "b'1234567890'\n",
      "3\n"
     ]
    }
   ],
   "source": [
    "from array import array\n",
    "\n",
    "a1 = array(\"l\", [1, 2, 3, -4])\n",
    "a2 = array(\"b\", b\"1234567890\")\n",
    "b = bytes(a2)\n",
    "\n",
    "print(a1)\n",
    "print(a2[0])\n",
    "print(b)\n",
    "\n",
    "print(a1.index(-4))  # Возвращает индекс элементы или выбрасывает ValueError"
   ]
  },
  {
   "cell_type": "code",
   "execution_count": 11,
   "metadata": {},
   "outputs": [
    {
     "name": "stdout",
     "output_type": "stream",
     "text": [
      "b'\\x01\\x02\\x03\\x04' b'The String' b'\\xff\\xff\\xfc\\x00' b'\\xfe\\xad\\xca' b'\\n\\x0c\\x0e\\x10\\x12\\x14\\x16\\x18\\x1a\\x1c'\n",
      "[252, 0, 0, 0, 0, 1] The String 64512 fc 00 00 00 00 01\n",
      "b'\\x01\\x02\\x03\\x04'\n"
     ]
    }
   ],
   "source": [
    "# Создание\n",
    "\n",
    "b1 = bytes([1, 2, 3, 4])  # Целые числа должны быть в диапазоне от 0 to 255\n",
    "b2 = \"The String\".encode('utf-8')\n",
    "b3 = (-1024).to_bytes(4, byteorder='big', signed=True)  # byteorder = \"big\"/\"little\"/\"sys.byteorder\", signed = False/True\n",
    "b4 = bytes.fromhex('FEADCA')  # Для большей читаемости hex-значения могут быть разделены пробелами\n",
    "b5 = bytes(range(10,30,2))\n",
    "\n",
    "print(b1, b2, b3, b4, b5)\n",
    "\n",
    "# Преобразование\n",
    "\n",
    "c: list = list(b\"\\xfc\\x00\\x00\\x00\\x00\\x01\")\n",
    "s: str = b'The String'.decode(\"utf-8\")\n",
    "b: int = int.from_bytes(b\"\\xfc\\x00\", byteorder='big', signed=False)  # byteorder = \"big\"/\"little\"/\"sys.byteorder\", signed = False/True\n",
    "s2: str = b\"\\xfc\\x00\\x00\\x00\\x00\\x01\".hex(\" \")\n",
    "\n",
    "print(c, s, b, s2)\n",
    "\n",
    "with open(\"1.bin\", \"wb\") as file:  # Байтовая запись в файл\n",
    "    file.write(b1)\n",
    "\n",
    "with open(\"1.bin\", \"rb\") as file:  # Чтение из файла\n",
    "    b6 = file.read()\n",
    "\n",
    "print(b6)"
   ]
  },
  {
   "cell_type": "code",
   "execution_count": 12,
   "metadata": {},
   "outputs": [
    {
     "name": "stdout",
     "output_type": "stream",
     "text": [
      "deque([-2, -1, 0, 1, 2, 3, 4, 5, 6, 7], maxlen=1000)\n",
      "7 -2\n",
      "deque([-1, 0, 1, 2, 3, 4, 5, 6], maxlen=1000)\n"
     ]
    }
   ],
   "source": [
    "from collections import deque\n",
    "d = deque([1, 2, 3, 4], maxlen=1000)\n",
    "\n",
    "d.append(5)  # Add element to the right side of the deque\n",
    "d.appendleft(0)  # Add element to the left side of the deque by appending elements from iterable\n",
    "\n",
    "d.extend([6, 7])  # Extend the right side of the deque\n",
    "d.extendleft([-1, -2])  # Extend the left side of the deque\n",
    "print(d)\n",
    "\n",
    "a = d.pop()  # Remove and return an element from the right side of the deque. Can raise an IndexError\n",
    "b = d.popleft()  # Remove and return an element from the left side of the deque. Can raise an IndexError\n",
    "print(a, b)\n",
    "print(d)"
   ]
  },
  {
   "cell_type": "code",
   "execution_count": 13,
   "metadata": {},
   "outputs": [
    {
     "name": "stdout",
     "output_type": "stream",
     "text": [
      "deque(['eat', 'sleep', 'code', 'repeat'])\n",
      "eat sleep code deque(['repeat'])\n"
     ]
    }
   ],
   "source": [
    "from queue import Queue\n",
    "q = Queue(maxsize=1000)\n",
    "\n",
    "q.put(\"eat\", block=True, timeout=10)\n",
    "q.put(\"sleep\")  # По умолчанию block=True, timeout=None\n",
    "q.put(\"code\")\n",
    "q.put_nowait(\"repeat\")  # Эквивалент put(\"repeat\", block=False). Если свободный слот не будет предоставлен немедленно, будет вызвано исключение queue.Full\n",
    "print(q.queue)\n",
    "\n",
    "a = q.get(block=True, timeout=10)  # Удалить и возвратить элемент из FIFO\n",
    "b = q.get()  # По умолчанию block=True, timeout=None\n",
    "c = q.get_nowait()  # Эквивалент get(False)\n",
    "print(a, b, c, q.queue)"
   ]
  }
 ],
 "metadata": {
  "kernelspec": {
   "display_name": "Python 3",
   "language": "python",
   "name": "python3"
  },
  "language_info": {
   "codemirror_mode": {
    "name": "ipython",
    "version": 3
   },
   "file_extension": ".py",
   "mimetype": "text/x-python",
   "name": "python",
   "nbconvert_exporter": "python",
   "pygments_lexer": "ipython3",
   "version": "3.10.6"
  },
  "orig_nbformat": 4
 },
 "nbformat": 4,
 "nbformat_minor": 2
}
