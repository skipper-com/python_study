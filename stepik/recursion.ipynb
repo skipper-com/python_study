{
 "cells": [
  {
   "cell_type": "code",
   "execution_count": null,
   "metadata": {},
   "outputs": [],
   "source": [
    "def traffic(n):\n",
    "    if n > 0:\n",
    "        print('Не парковаться')\n",
    "        traffic(n-1)\n",
    "\n",
    "traffic(3)"
   ]
  },
  {
   "cell_type": "code",
   "execution_count": null,
   "metadata": {},
   "outputs": [],
   "source": [
    "def natural(n):\n",
    "    if n <= 100:\n",
    "        print(n)\n",
    "        natural(n+1)\n",
    "\n",
    "natural(1)\n"
   ]
  },
  {
   "cell_type": "code",
   "execution_count": null,
   "metadata": {},
   "outputs": [],
   "source": [
    "numbers = [243, -279, 395, 130, 89, 269, 861, 669, 939, 367, -46, 710, 841, -280, -244, 274, -132, 273, 418, 432, -341, 437, 360, 960, \n",
    "        195, 792, 106, 461, -35, 980, -80, 540, -358, 69, -26, -416, 597, 96, 533, 232, 755, 894, 331, 323, -383, -386, 231, 436, 553, \n",
    "        967, 166, -151, 772, 434, 325, 301, 275, 431, 556, 728, 558, 702, 463, 127, 984, 212, 876, -287, -16, -177, 577, 604, 116, 500, \n",
    "        653, 669, 916, 802, 817, 762, -210, -353, 144, -351, 777, 805, 692, 22, -303, 249, 190, 411, 236, -274, 174, 380, 71, 124, -85, 430]\n",
    "\n",
    "def print_number(i):\n",
    "    if i < 100:\n",
    "        print(f'Элемент {i}: {numbers[i]}')\n",
    "        print_number(i+1)\n",
    "\n",
    "print_number(0)"
   ]
  },
  {
   "cell_type": "code",
   "execution_count": null,
   "metadata": {},
   "outputs": [],
   "source": [
    "def print_numbers():\n",
    "    n = int(input())\n",
    "    if n > 0:\n",
    "        print_numbers()\n",
    "        print(n)\n",
    "    else:\n",
    "        print(n)\n",
    "\n",
    "print_numbers()\n"
   ]
  },
  {
   "cell_type": "code",
   "execution_count": null,
   "metadata": {},
   "outputs": [],
   "source": [
    "def triangle(h):\n",
    "    if h > 0:\n",
    "        print(h * '*')\n",
    "        triangle(h-1)\n",
    "\n",
    "triangle(5)"
   ]
  },
  {
   "cell_type": "code",
   "execution_count": null,
   "metadata": {},
   "outputs": [],
   "source": [
    "def triangle(h):\n",
    "    if h > 0:\n",
    "        triangle(h-1)\n",
    "        print(h * '*')\n",
    "\n",
    "triangle(5)"
   ]
  },
  {
   "cell_type": "code",
   "execution_count": null,
   "metadata": {},
   "outputs": [],
   "source": [
    "def clock(h = 16, d = 1):\n",
    "    print(int((16-h)/2)*' ' + h*f\"{d}\" + int((16-h)/2)*' ')\n",
    "    if h > 4:\n",
    "        clock(h-4, d+1)\n",
    "        print(int((16-h)/2)*' ' + h*f\"{d}\" + int((16-h)/2)*' ')\n",
    "\n",
    "clock()"
   ]
  },
  {
   "cell_type": "code",
   "execution_count": null,
   "metadata": {},
   "outputs": [],
   "source": [
    "def print_digits(number):\n",
    "    \n",
    "    if len(str(number)) > 0:\n",
    "        print(str(number)[-1])\n",
    "        print_digits(str(number)[:-1])\n",
    "\n",
    "print_digits(7)"
   ]
  },
  {
   "cell_type": "code",
   "execution_count": null,
   "metadata": {},
   "outputs": [],
   "source": [
    "def print_digits(number):\n",
    "    \n",
    "    if len(str(number)) > 0:\n",
    "        print(str(number)[0])\n",
    "        print_digits(str(number)[1:])\n",
    "\n",
    "print_digits(2077)"
   ]
  },
  {
   "cell_type": "code",
   "execution_count": null,
   "metadata": {},
   "outputs": [],
   "source": [
    "def digits_number(number):\n",
    "    d = {'n': 0}\n",
    "    def take_one(number):\n",
    "        if len(number) > 0:\n",
    "            d['n'] = d['n'] + 1\n",
    "            take_one(number[1:])\n",
    "    take_one(number)\n",
    "    return d['n']\n",
    "\n",
    "number = input()\n",
    "print(digits_number(number))"
   ]
  },
  {
   "cell_type": "code",
   "execution_count": null,
   "metadata": {},
   "outputs": [],
   "source": [
    "def digits_number(number):\n",
    "    d = {'n': 0}\n",
    "    def take_one(number):\n",
    "        if len(number) > 0:\n",
    "            d['n'] = d['n'] + int(number[0])\n",
    "            take_one(number[1:])\n",
    "    take_one(number)\n",
    "    return d['n']\n",
    "\n",
    "number = input()\n",
    "print(digits_number(number))"
   ]
  },
  {
   "cell_type": "code",
   "execution_count": null,
   "metadata": {},
   "outputs": [],
   "source": [
    "def number_of_frogs(year):\n",
    "    d = {'n': 77}\n",
    "    def year_grows(year):\n",
    "        if year > 1:\n",
    "            d['n'] = (d['n'] - 30) * 3\n",
    "            year_grows(year-1)\n",
    "    year_grows(year)\n",
    "    return d['n']\n",
    "\n",
    "print(number_of_frogs(10))"
   ]
  },
  {
   "cell_type": "code",
   "execution_count": null,
   "metadata": {},
   "outputs": [],
   "source": [
    "def range_sum(numbers, start, end):\n",
    "    d = {'s': 0}\n",
    "    def add_one(numbers, start, end):\n",
    "        if start <= end:\n",
    "            d['s'] = d['s'] + numbers[start]\n",
    "            add_one(numbers, start+1, end)\n",
    "    add_one(numbers, start, end)\n",
    "    return d['s']\n",
    "\n",
    "print(range_sum([1, 2, 3, 4, 5, 6, 7, 8, 9], 0, 0))"
   ]
  },
  {
   "cell_type": "code",
   "execution_count": null,
   "metadata": {},
   "outputs": [],
   "source": [
    "def get_pow(a, n):\n",
    "    d = {'m': 1}\n",
    "    def mult_one(a, n):\n",
    "        if n >= 1:\n",
    "            d['m'] = d['m'] * a\n",
    "            mult_one(a, n-1)\n",
    "    mult_one(a, n)\n",
    "    return d['m']\n",
    "\n",
    "print(get_pow(2, 100))"
   ]
  },
  {
   "cell_type": "code",
   "execution_count": null,
   "metadata": {},
   "outputs": [],
   "source": [
    "def get_fast_pow(a, n):\n",
    "    if n >= 1:\n",
    "        if n%2 == 0:\n",
    "            return get_fast_pow(a*a, n//2)\n",
    "        else:\n",
    "            return a * get_fast_pow(a, n-1)\n",
    "    else:\n",
    "        return 1\n",
    "\n",
    "print(get_fast_pow(2, 100))"
   ]
  },
  {
   "cell_type": "code",
   "execution_count": null,
   "metadata": {},
   "outputs": [],
   "source": [
    "def recursive_sum(a, b):\n",
    "    d = {'b': b}\n",
    "    def sum_r(a, b):\n",
    "        if a < 0:\n",
    "            d['b'] = d['b'] + 1\n",
    "            sum_r(a+1, d['b'])\n",
    "        elif a > 0:\n",
    "            d['b'] = d['b'] + 1\n",
    "            sum_r(a-1, d['b'])\n",
    "    sum_r(a, b)\n",
    "    return d['b']\n",
    "\n",
    "print(recursive_sum(0, 0))"
   ]
  },
  {
   "cell_type": "code",
   "execution_count": null,
   "metadata": {},
   "outputs": [],
   "source": [
    "def is_power(number):\n",
    "    if number < 2:\n",
    "        if number == 1:\n",
    "            return True\n",
    "        else:\n",
    "            return False\n",
    "    else:\n",
    "        return is_power(number/2)\n",
    "\n",
    "print(is_power(512))"
   ]
  },
  {
   "cell_type": "code",
   "execution_count": null,
   "metadata": {},
   "outputs": [],
   "source": [
    "def tribonacci(n):\n",
    "    d = {'n': [1, 1, 1]}\n",
    "    def posl():\n",
    "        if len(d['n']) < n:\n",
    "            d['n'].append(sum(d['n'][-3:]))  \n",
    "            return posl()\n",
    "        else:\n",
    "            return d['n'][-1]\n",
    "    return posl()\n",
    "\n",
    "print(tribonacci(4))"
   ]
  },
  {
   "cell_type": "code",
   "execution_count": null,
   "metadata": {},
   "outputs": [],
   "source": [
    "def is_palindrome(string):\n",
    "    if len(string) == 0 or len(string) == 1:\n",
    "        return True\n",
    "    elif len(string) > 1 and string[0] == string[-1]:\n",
    "        return is_palindrome(string[1:-1])\n",
    "    else:\n",
    "        return False\n",
    "\n",
    "\n",
    "print(is_palindrome('122333221'))"
   ]
  },
  {
   "cell_type": "code",
   "execution_count": null,
   "metadata": {},
   "outputs": [],
   "source": [
    "def to_binary(number):\n",
    "    def bin_div(number):\n",
    "        if number == 0:\n",
    "            return 0\n",
    "        elif number == 1:\n",
    "            return str(number%2)\n",
    "        else:\n",
    "            return bin_div(number//2) + str(number%2)\n",
    "    return bin_div(number)\n",
    "\n",
    "print(to_binary(14))"
   ]
  },
  {
   "cell_type": "code",
   "execution_count": null,
   "metadata": {},
   "outputs": [],
   "source": [
    "def cycle(n):\n",
    "    if n <= 0:\n",
    "        print(n)\n",
    "        return True\n",
    "    else:\n",
    "        print(n)\n",
    "        cycle(n-5)\n",
    "        print(n)\n",
    "cycle(int(input()))\n"
   ]
  },
  {
   "cell_type": "code",
   "execution_count": null,
   "metadata": {},
   "outputs": [],
   "source": [
    "def recursive_sum(nested_lists):\n",
    "    total = 0\n",
    "    for elem in nested_lists:\n",
    "        if isinstance(elem, list):\n",
    "            total += recursive_sum(elem)\n",
    "        else:\n",
    "            total += elem\n",
    "    return total\n",
    "\n",
    "my_list = [1, [4, 4], 2, [1, [2, 10]]]\n",
    "print(recursive_sum(my_list))"
   ]
  },
  {
   "cell_type": "code",
   "execution_count": null,
   "metadata": {},
   "outputs": [],
   "source": [
    "def linear(nested_list):\n",
    "    l = []\n",
    "    for elem in nested_list:\n",
    "        if isinstance(elem, list):\n",
    "            l.extend(linear(elem))\n",
    "        else:\n",
    "            l.append(elem)\n",
    "    return l\n",
    "\n",
    "my_list = [3, [4], [5, [6, [7, 8]]]]\n",
    "print(linear(my_list))"
   ]
  },
  {
   "cell_type": "code",
   "execution_count": null,
   "metadata": {},
   "outputs": [],
   "source": [
    "def get_value(nested_dicts, key):\n",
    "    if key in nested_dicts:\n",
    "        return nested_dicts[key]\n",
    "    \n",
    "    for v in nested_dicts.values():\n",
    "        if type(v) == dict:\n",
    "            value = get_value(v, key)    # рекурсивный случай\n",
    "            if value is not None:\n",
    "                return value \n",
    "\n",
    "\n",
    "data = {'firstName': 'Тимур', 'lastName': 'Гуев', 'birthDate': {'day': 10, 'month': 'October', 'year': 1993}, 'address': {'streetAddress': 'Часовая 25, кв. 127', 'city': {'region': 'Московская область', 'type': 'город', 'cityName': 'Москва'}, 'postalCode': '125315'}}\n",
    "\n",
    "print(get_value(data, 'cityName'))"
   ]
  },
  {
   "cell_type": "code",
   "execution_count": null,
   "metadata": {},
   "outputs": [],
   "source": [
    "def get_all_values(nested_dicts, key):\n",
    "    l = set()\n",
    "    if key in nested_dicts:\n",
    "        l.add(nested_dicts[key])\n",
    "    \n",
    "    for v in nested_dicts.values():\n",
    "        if type(v) == dict:\n",
    "            v = get_all_values(v, key)\n",
    "            l = l.union(v)\n",
    "    return l\n",
    "\n",
    "my_dict = {'users': {'Arthur': {'grades': [4, 4, 3], 'top_grade': 4}, 'Timur': {'grades': [5, 5, 5], 'top_grade': 5}}}\n",
    "result = get_all_values(my_dict, 'top_grade')\n",
    "\n",
    "print(*sorted(result))\n",
    "print(type(result))\n",
    "\n",
    "my_dict = {'Arthur': {'hobby': 'videogames', 'drink': 'cacao'}, 'Timur': {'hobby': 'math'}}\n",
    "result = get_all_values(my_dict, 'hobby')\n",
    "\n",
    "print(*sorted(result))"
   ]
  },
  {
   "cell_type": "code",
   "execution_count": null,
   "metadata": {},
   "outputs": [],
   "source": [
    "def dict_travel(nested_dicts, path = []):\n",
    "    for i in sorted(nested_dicts):\n",
    "        if isinstance(nested_dicts[i], dict):\n",
    "            dict_travel(nested_dicts[i], path + [i])\n",
    "        else:\n",
    "            print(f\"{'.'.join(path + [i])}: {nested_dicts[i]}\")\n",
    "\n",
    "data = {'d': 1, 'b': {'c': 30, 'a': 10, 'b': 20}, 'a': 100}\n",
    "dict_travel(data)"
   ]
  }
 ],
 "metadata": {
  "kernelspec": {
   "display_name": "Python 3",
   "language": "python",
   "name": "python3"
  },
  "language_info": {
   "codemirror_mode": {
    "name": "ipython",
    "version": 3
   },
   "file_extension": ".py",
   "mimetype": "text/x-python",
   "name": "python",
   "nbconvert_exporter": "python",
   "pygments_lexer": "ipython3",
   "version": "3.10.6"
  },
  "orig_nbformat": 4
 },
 "nbformat": 4,
 "nbformat_minor": 2
}
