{
 "cells": [
  {
   "cell_type": "code",
   "execution_count": null,
   "metadata": {},
   "outputs": [],
   "source": [
    "product = 1\n",
    "\n",
    "for i in range(1, 11):\n",
    "    product *= i\n",
    "\n",
    "print('Произведение чисел от 1 до 10 включительно:', product)"
   ]
  },
  {
   "cell_type": "code",
   "execution_count": null,
   "metadata": {},
   "outputs": [],
   "source": [
    "def get_max_index(numbers):\n",
    "    max_index = 0\n",
    "    max_value = numbers[0] \n",
    "\n",
    "    for index, value in enumerate(numbers, 0): \n",
    "        if value >= max_value: \n",
    "            max_index = index\n",
    "            max_value = value\n",
    "\n",
    "    return max_index\n",
    "\n",
    "\n",
    "get_max_index([2,38,5,-4,3,2,38,4,5,6,2])"
   ]
  },
  {
   "cell_type": "code",
   "execution_count": null,
   "metadata": {},
   "outputs": [],
   "source": [
    "for k,v in enumerate([2,34,5,4,3,2,3,4,5,6,2], 1):\n",
    "    print(k,v)"
   ]
  },
  {
   "cell_type": "code",
   "execution_count": 1,
   "metadata": {},
   "outputs": [],
   "source": [
    "# function which generate random string\n",
    "def "
   ]
  }
 ],
 "metadata": {
  "kernelspec": {
   "display_name": "Python 3",
   "language": "python",
   "name": "python3"
  },
  "language_info": {
   "codemirror_mode": {
    "name": "ipython",
    "version": 3
   },
   "file_extension": ".py",
   "mimetype": "text/x-python",
   "name": "python",
   "nbconvert_exporter": "python",
   "pygments_lexer": "ipython3",
   "version": "3.10.6"
  },
  "orig_nbformat": 4
 },
 "nbformat": 4,
 "nbformat_minor": 2
}
