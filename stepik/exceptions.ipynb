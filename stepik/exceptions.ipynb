{
 "cells": [
  {
   "cell_type": "code",
   "execution_count": null,
   "metadata": {},
   "outputs": [],
   "source": [
    "product = 1\n",
    "\n",
    "for i in range(1, 11):\n",
    "    product *= i\n",
    "\n",
    "print('Произведение чисел от 1 до 10 включительно:', product)"
   ]
  },
  {
   "cell_type": "code",
   "execution_count": null,
   "metadata": {},
   "outputs": [],
   "source": [
    "def get_max_index(numbers):\n",
    "    max_index = 0\n",
    "    max_value = numbers[0] \n",
    "\n",
    "    for index, value in enumerate(numbers, 0): \n",
    "        if value >= max_value: \n",
    "            max_index = index\n",
    "            max_value = value\n",
    "\n",
    "    return max_index\n",
    "\n",
    "\n",
    "get_max_index([2,38,5,-4,3,2,38,4,5,6,2])"
   ]
  },
  {
   "cell_type": "code",
   "execution_count": null,
   "metadata": {},
   "outputs": [],
   "source": [
    "s, n = 0, 0\n",
    "while True:\n",
    "    line = input()\n",
    "    if line:\n",
    "        try:\n",
    "            s += float(line)\n",
    "        except:\n",
    "            n += 1\n",
    "    else:\n",
    "        break\n",
    "print(f'{s}\\n{n}')"
   ]
  },
  {
   "cell_type": "code",
   "execution_count": null,
   "metadata": {},
   "outputs": [],
   "source": [
    "months = {\n",
    "    1: \"January\",\n",
    "    2: \"February\",\n",
    "    3: \"March\",\n",
    "    4: \"April\",\n",
    "    5: \"May\",\n",
    "    6: \"June\",\n",
    "    7: \"July\",\n",
    "    8: \"August\",\n",
    "    9: \"September\",\n",
    "    10: \"October\",\n",
    "    11: \"November\",\n",
    "    12: \"December\"\n",
    "}\n",
    "n = input()\n",
    "try:\n",
    "    n = int(n)\n",
    "    print(months[n])\n",
    "except KeyError:\n",
    "    print(\"Введено число из недопустимого диапазона\")\n",
    "except:\n",
    "    print(\"Введено некорректное значение\")"
   ]
  },
  {
   "cell_type": "code",
   "execution_count": null,
   "metadata": {},
   "outputs": [],
   "source": [
    "def add_to_list_in_dict(data, key, element):\n",
    "    try:\n",
    "        data[key].append(element)\n",
    "    except KeyError:\n",
    "        data[key] = [element]\n",
    "    return None\n",
    "\n",
    "data = {'a': [1, 2, 3], 'b': [4, 5, 6]}\n",
    "add_to_list_in_dict(data, 'c', 7)\n",
    "\n",
    "print(data)"
   ]
  },
  {
   "cell_type": "code",
   "execution_count": null,
   "metadata": {},
   "outputs": [],
   "source": [
    "name = input()\n",
    "try:\n",
    "    with open(name, 'r', encoding='utf-8') as file:\n",
    "        for l in file.readlines():\n",
    "            print(l.strip())\n",
    "except:\n",
    "    print(\"​Файл не найден\")"
   ]
  },
  {
   "cell_type": "code",
   "execution_count": null,
   "metadata": {},
   "outputs": [],
   "source": [
    "week = {1:\"Понедельник\", 2:\"Вторник\", 3:\"Среда\", 4:\"Четверг\", 5:\"Пятница\", 6:\"Суббота\", 7:\"Воскресенье\"}\n",
    "\n",
    "def get_weekday(number):\n",
    "    if not type(number) == int:\n",
    "        raise TypeError('Аргумент не является целым числом')\n",
    "    if int(number) > 7 or int(number) < 1:\n",
    "        raise ValueError('Аргумент не принадлежит требуемому диапазону')           \n",
    "    return week[int(number)]\n",
    "    \n",
    "print(get_weekday(1))"
   ]
  },
  {
   "cell_type": "code",
   "execution_count": 16,
   "metadata": {},
   "outputs": [
    {
     "name": "stdout",
     "output_type": "stream",
     "text": [
      "Имя не является корректным\n"
     ]
    }
   ],
   "source": [
    "def get_id(names, name):\n",
    "    if not type(name) == str:\n",
    "        raise TypeError('Имя не является строкой')\n",
    "    else:\n",
    "        if not name[0].istitle():\n",
    "            raise ValueError('Имя не является корректным')\n",
    "        for i in name[1:]:\n",
    "            if not i.isalpha() or i.istitle():\n",
    "                raise ValueError('Имя не является корректным')\n",
    "        return len(names)+1\n",
    "\n",
    "names = ['Timur', 'Anri', 'Dima', 'Arthur']\n",
    "name = 'RuSlan'\n",
    "\n",
    "try:\n",
    "    print(get_id(names, name))\n",
    "except ValueError as e:\n",
    "    print(e)"
   ]
  },
  {
   "cell_type": "code",
   "execution_count": 20,
   "metadata": {},
   "outputs": [
    {
     "name": "stdout",
     "output_type": "stream",
     "text": [
      "[1, 2, 3, 4, 5, 6, 7, 8, 9, 10]\n"
     ]
    }
   ],
   "source": [
    "import json\n",
    "filename = input()\n",
    "try:\n",
    "    with open(filename, 'r', encoding='utf-8') as file:\n",
    "        try:\n",
    "            data = json.load(file)\n",
    "            print(data)\n",
    "        except:\n",
    "            print(\"Ошибка при десериализации\")\n",
    "\n",
    "except:\n",
    "    print(\"​Файл не найден\")"
   ]
  },
  {
   "cell_type": "code",
   "execution_count": 48,
   "metadata": {},
   "outputs": [
    {
     "name": "stdout",
     "output_type": "stream",
     "text": [
      "<class '__main__.LetterError'>\n"
     ]
    }
   ],
   "source": [
    "\n",
    "for string in input():\n",
    "    if not len(string) >= 9:\n",
    "        print('LengthError')\n",
    "        continue\n",
    "    if not (any(i.isupper() for i in string) and any(i.islower() for i in string)):\n",
    "        print('LetterError')\n",
    "        continue\n",
    "    if not any(i.isdigit() for i in string):\n",
    "        print('DigitError')\n",
    "        continue\n",
    "    print('success')\n",
    "\n"
   ]
  }
 ],
 "metadata": {
  "kernelspec": {
   "display_name": "Python 3",
   "language": "python",
   "name": "python3"
  },
  "language_info": {
   "codemirror_mode": {
    "name": "ipython",
    "version": 3
   },
   "file_extension": ".py",
   "mimetype": "text/x-python",
   "name": "python",
   "nbconvert_exporter": "python",
   "pygments_lexer": "ipython3",
   "version": "3.10.6"
  },
  "orig_nbformat": 4
 },
 "nbformat": 4,
 "nbformat_minor": 2
}
